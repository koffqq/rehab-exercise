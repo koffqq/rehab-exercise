{
  "nbformat": 4,
  "nbformat_minor": 0,
  "metadata": {
    "colab": {
      "provenance": [],
      "authorship_tag": "ABX9TyN2GqcWPr1On5dQfQy9QmPC",
      "include_colab_link": true
    },
    "kernelspec": {
      "name": "python3",
      "display_name": "Python 3"
    },
    "language_info": {
      "name": "python"
    }
  },
  "cells": [
    {
      "cell_type": "markdown",
      "metadata": {
        "id": "view-in-github",
        "colab_type": "text"
      },
      "source": [
        "<a href=\"https://colab.research.google.com/github/koffqq/rehab-exercise/blob/main/AI_Reha%26Health_HS24_Poject_Report.ipynb\" target=\"_parent\"><img src=\"https://colab.research.google.com/assets/colab-badge.svg\" alt=\"Open In Colab\"/></a>"
      ]
    },
    {
      "cell_type": "markdown",
      "source": [
        "# Final Report: Data Analysis for SUVA Clinics\n",
        "\n",
        "## Abstract\n",
        "* Brief overview of the project goals, methods, and key findings.\n",
        "\n",
        "## Introduction\n",
        "**Background**\n",
        "\n",
        "SUVA Clinics, located in Bellikon and Sion, specialize in rehabilitation and reintegration services for patients recovering from neurological, orthopedic, and traumatic injuries. With a focus on innovative therapeutic approaches, these clinics emphasize interdisciplinary management to improve patient outcomes. Their expertise in rehabilitation aligns with the evolving needs of musculoskeletal recovery, particularly for patients experiencing chronic pain and complex conditions like kinesiophobia and anxiety. A crucial aspect of this process is pain management, particularly through the use of analgesic drugs.\n",
        "\n",
        "Despite the widespread use of analgesics in musculoskeletal rehabilitation, their role remains under-studied, especially in terms of how different factor might contribute to different usages of pain medication—opioid and non-opioid. Addressing this gap is essential, as pain management is a cornerstone of rehabilitation success. Our research aims to bridge this knowledge gap by analyzing anonymized patient data from SUVA Clinics over an eight-year period, focusing on the patterns of analgesic intake and their association with key variables such as pain severity, anxiety, depression, and movement-related fears (kinesiophobia).\n",
        "\n",
        "\n",
        "**Objectives**\n",
        "\n",
        "Our research project utilizes anonymized patient data from SUVA Clinics to explore patterns and impacts of analgesic drug intake in musculoskeletal rehabilitation. Specifically, we aim to uncover two topics:\n",
        "\n",
        "1. The correlations between key variables and;\n",
        "2. The causal pathways influencing analgesic use.\n",
        "\n",
        "The insights gained will inform future strategies to optimize pain management and enhance patient outcomes in musculoskeletal rehabilitation settings.\n",
        "\n",
        "**Description of the dataset**\n",
        "\n",
        "The dataset spans eight years and categorizes patients into three groups based on their analgesic use: no analgesics (NA), non-opioid analgesics (NOA), and opioid analgesics (OPA). The dataset contains groups of clinical data, and data about personal details. The dataset includes 65 variables, including clinical data, sociodemographic data, and drug consumption data. The test set covers 5211 patients.\n"
      ],
      "metadata": {
        "id": "lm2Zl-NYNPnP"
      }
    },
    {
      "cell_type": "markdown",
      "source": [
        "## Methodology\n",
        "\n",
        "### Data Cleaning"
      ],
      "metadata": {
        "id": "IfNvrfSaQLpO"
      }
    },
    {
      "cell_type": "code",
      "execution_count": null,
      "metadata": {
        "id": "NW_Fc2m2NM-q"
      },
      "outputs": [],
      "source": []
    },
    {
      "cell_type": "markdown",
      "source": [
        "### Feature Selection with Markov Blanket"
      ],
      "metadata": {
        "id": "zYdJZewnQTI1"
      }
    },
    {
      "cell_type": "markdown",
      "source": [
        "### Training with 3 Models"
      ],
      "metadata": {
        "id": "6Yqc-yrvQaxH"
      }
    },
    {
      "cell_type": "markdown",
      "source": [
        "### Data Explainability with SHAP Analysis\n",
        "\n",
        "When conducting SHAP analysis, we group certain features into conglomerates to account for their interdependencies. For example, whether a patient takes ibuprofen is inherently linked to whether they take analgesic drugs in general. While these features are dependent, simplifying the data during feature selection or modeling would result in a mistake of omitting critical information, which could distort the model’s predictive capabilities. SHAP analysis struggles with highly correlated features because it distributes feature importance across them, making it difficult to interpret their individual contributions accurately. By leveraging domain knowledge to group related features, we enhance the interpretability of SHAP explanations, ensuring a more meaningful analysis of the model's behavior."
      ],
      "metadata": {
        "id": "fx-21j13VrR7"
      }
    }
  ]
}